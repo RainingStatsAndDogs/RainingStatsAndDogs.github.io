{
 "cells": [
  {
   "cell_type": "markdown",
   "id": "53d58796-6b13-429e-a1c0-c47c0e6144b2",
   "metadata": {
    "tags": []
   },
   "source": [
    "## Overview\n",
    "I thought this would be a great chance to not only highlight some more functionality of [scikit-learn](https://scikit-learn.org/stable/index.html), but also a nice way to unite this with some of the basics of [Statistical Machine Learning](https://en.wikipedia.org/wiki/Statistical_learning_theory#:~:text=Statistical%20learning%20theory%20is%20a,predictive%20function%20based%20on%20data.)! The major concept here is to show you how you can integrate custom models into the **sklearn** infrastructure, particularly using [GridSearchCV](https://rainingstatsanddogs.github.io/intro-to-sklearn-best-practices.html). The example I'm going to show is very basic, and you can certainly do far more, though this is a good start. But before we get into the coding, let's start talking about the theory!\n",
    "\n",
    "# Statistical Learning Theory\n",
    "There are literal books on the subject so this is going to be a poor summary of a very rich and beautiful field. But at a high level, **Statistical Learning Theory** presumes that we have _feature vectors_ (aka \"inputs\"), $\\vec{\\pmb{X}}\\in \\mathbb{X} \\subseteq \\mathbb{R}^{k}$, and _labels_ (aka \"outputs\"), $\\vec{\\pmb{Y}}\\in \\mathbb{Y} \\subseteq \\mathbb{R}^{l}$, where $\\mathbb{X}$ is the _Feature Space_ and $\\mathbb{Y}$ is the _Label Space_. It is further assumed that there is some probability distribution over pairs of features and labels, aka $P(\\vec{\\pmb{X}}, \\vec{\\pmb{Y}})$. This is a powerful (and potentially subtle) statement which really deserves some consideration. The form form of this distribution can be complex or simple, but this is _the_ fundamental assumption of Statistical Learning Theory, in my opinion. Viewing the problem in this way lets us bring all the power of modern probability and statistics to bear to solve this problems, which means we can (or try) to utilize this joint distribution to construct marginals (e.g. $P(\\vec{\\pmb{Y}}$) and conditional distributions (e.g. $P(\\vec{\\pmb{Y}}|\\vec{\\pmb{X}})$) to help us understand and solve our problem. Of course, in practice we don't actually know this distribution and estimating it (or some aspect of it) is the major focus of Statistical Learning\n",
    "\n",
    "Now here I want to focus our efforts a bit more. Statistical Learning Theory is a vast area which covers distinct principals like [Supervised Learning](https://en.wikipedia.org/wiki/Supervised_learning), [Unsupervised Learning](https://en.wikipedia.org/wiki/Unsupervised_learning) and [Reinforcement Learning](https://en.wikipedia.org/wiki/Reinforcement_learning). From now on (and in all prior posts) we'll be focussing on **Supervised Learning**, which effectively means we have training data where we know the desired outputs for a given input. Examples would be some characteristics of plants and what species they are, or being given details of a house and trying to predict its value. In the formalism of Learning Theory, the objective is learn a function $h,~h:\\pmb{\\vec{X}}\\rightarrow\\pmb{\\vec{Y}}$ such that, given $(\\pmb{\\vec{x}},\\pmb{\\vec{y}}) \\sim P(\\pmb{\\vec{X}},\\pmb{\\vec{Y}}),~h(\\pmb{\\vec{x}}) \\approx \\pmb{\\vec{y}}$. This is where the major challenges come in and there is more set-up required here to properly develop some core concepts whichh are beyond the scope of this post. But with that, I want to focus on one last aspect.  \n",
    "\n",
    "Some texts use $f$ or $g$ to denote the function we try to learn, but I like the texts that stick with $h$, as this (in my mind) stands for \"hypothesis\". We can then think of $h$ coming from a class of potential hypotheses, i.e. $h\\in\\mathcal{H}$! $\\mathcal{H}$ can be basically whatever you want it to be! It's not just picking the best linear model or random forest ensemble; it  can be incredibly abstract. It can also contain very basic objects too, and this is what we will show how to fit in the sequence. To start with, let's simulate some fake data. In this case I'm going to go with a [regression](https://en.wikipedia.org/wiki/Regression_analysis#Regression_model), which means that our **label space** is a subset of the reals and infinite as opposed to when the label space is discrete (e.g. $\\{-1, 0, 1\\}$) which is a [classification](https://en.wikipedia.org/wiki/Statistical_classification) problem. "
   ]
  },
  {
   "cell_type": "code",
   "execution_count": 193,
   "id": "5d72db52-e5c4-48f7-8a5c-d394e8ab17eb",
   "metadata": {},
   "outputs": [],
   "source": [
    "# Import a few libraries\n",
    "import numpy as np\n",
    "import pandas as pd\n",
    "# Setting a seed\n",
    "np.random.seed(1234)\n",
    "# Simulate some data; x is between 1 and 10; y is a function\n",
    "x = np.linspace(1, 10, 30)\n",
    "y = np.log(x) + (1 / x) ** 0.5 * np.sin(x)"
   ]
  },
  {
   "cell_type": "markdown",
   "id": "44ec8953-3844-48d1-95b4-e89bacc265ef",
   "metadata": {},
   "source": [
    "And now  we can inspace this data."
   ]
  },
  {
   "cell_type": "code",
   "execution_count": 194,
   "id": "98458a52-d59b-45f1-b9e4-7bb4c52ad706",
   "metadata": {},
   "outputs": [
    {
     "data": {
      "image/png": "[encoded data removed]",
      "text/plain": [
       "<Figure size 1080x432 with 1 Axes>"
      ]
     },
     "metadata": {
      "needs_background": "light"
     },
     "output_type": "display_data"
    }
   ],
   "source": [
    "import matplotlib.pyplot as plt\n",
    "fig, ax = plt.subplots(figsize = (15, 6))\n",
    "plt.plot(x, y, marker = 'o', linestyle = 'none')\n",
    "plt.title(\"Simulated Data\");"
   ]
  },
  {
   "cell_type": "markdown",
   "id": "7da7c80e-f805-4298-9202-f50373ebdbd3",
   "metadata": {},
   "source": [
    "As mentioned before, we want to find a function such that (in this case) $h(x)\\approx y$. To be realistic, we should assume that we don't know the data-generating distribution, $P(x,y)$ and we want to estimate it. So let's explore a basic hypothesis: no matter what the input, $x$, we'll output a constant value: $c$. Put more formally, $$h_{constant}:\\mathbb{R}\\rightarrow c \\in\\mathbb{R}$$ Though this is trivial (and clearly not correct) we are going to use this as a springboard for creating our own custom estimator in **scikit-learn**! It turns out that making your own estimator can be pretty straight-forward. You simply need to create a class that has a `fit` and `predict` method. This follows the template from [this official documentation](https://scikit-learn.org/dev/developers/develop.html) which shows a classification method. The important aspects are that the new class we create is going to inherit from [BaseEstimator](https://scikit-learn.org/stable/modules/generated/sklearn.base.BaseEstimator.html) and [RegressorMixin](https://scikit-learn.org/stable/modules/generated/sklearn.base.RegressorMixin.html)."
   ]
  },
  {
   "cell_type": "code",
   "execution_count": 195,
   "id": "46824045-856b-4629-92fc-59fa5a4cf157",
   "metadata": {},
   "outputs": [],
   "source": [
    "# Import needed libraries\n",
    "from sklearn.base import BaseEstimator, RegressorMixin\n",
    "# Import some tools to validate the custom estimator\n",
    "from sklearn.utils.validation import check_X_y, check_array, check_is_fitted\n",
    "\n",
    "class PickConstant(BaseEstimator, RegressorMixin):\n",
    "    # I've initiated it with a constant of 1.5 based on eye-balling the data\n",
    "    def __init__(self, constant_value = 1.5):\n",
    "        self.constant_value = constant_value\n",
    "\n",
    "    def fit(self, X, y):\n",
    "        # Check that X and y have correct shape\n",
    "        X, y = check_X_y(X, y)\n",
    "        # To show the model was fit, we need to have appended 'X_' and 'y_' values\n",
    "        self.X_ = X\n",
    "        self.y_ = y\n",
    "        # Return the \"fitted\" regressor\n",
    "        return self\n",
    "\n",
    "    def predict(self, X):\n",
    "        # Check if fit has been called\n",
    "        check_is_fitted(self)\n",
    "        # Input validation\n",
    "        X = check_array(X)\n",
    "        # Return our predicted (constant) value\n",
    "        return self.constant_value * np.ones_like(X).reshape(-1, )"
   ]
  },
  {
   "cell_type": "markdown",
   "id": "6108320b-5820-4461-8b38-256c49e10e82",
   "metadata": {},
   "source": [
    "Let's check out the fit! We'll instatiate the class and see what we get:"
   ]
  },
  {
   "cell_type": "code",
   "execution_count": 196,
   "id": "aaa618f2-e7b4-4fcc-b00e-868f7f2a39cf",
   "metadata": {},
   "outputs": [],
   "source": [
    "# Instantiate the class with a constant value of 1.5\n",
    "const_reg = PickConstant(1.5)\n",
    "# Fit the model on the data (note we need to reshape 'x')\n",
    "const_reg.fit(x.reshape(-1, 1), y)\n",
    "# And make predictions!\n",
    "const_pred = const_reg.predict(x.reshape(-1, 1))"
   ]
  },
  {
   "cell_type": "code",
   "execution_count": 197,
   "id": "7d7b7a68-5a51-4bf0-aa4c-03b9ddf009c9",
   "metadata": {},
   "outputs": [
    {
     "data": {
      "text/plain": [
       "array([1.5, 1.5, 1.5, 1.5, 1.5, 1.5, 1.5, 1.5, 1.5, 1.5, 1.5, 1.5, 1.5,\n",
       "       1.5, 1.5, 1.5, 1.5, 1.5, 1.5, 1.5, 1.5, 1.5, 1.5, 1.5, 1.5, 1.5,\n",
       "       1.5, 1.5, 1.5, 1.5])"
      ]
     },
     "execution_count": 197,
     "metadata": {},
     "output_type": "execute_result"
    }
   ],
   "source": [
    "# Check the results\n",
    "const_pred"
   ]
  },
  {
   "cell_type": "markdown",
   "id": "e3c06ae1-8b40-4877-9ee2-3a2c86c8902d",
   "metadata": {},
   "source": [
    "The answers above look good! For each observation, we've predicted a constant value of 1.5! We can even visualize this now:"
   ]
  },
  {
   "cell_type": "code",
   "execution_count": 198,
   "id": "dc29486c-9139-4c25-95dc-c0ae69b3c749",
   "metadata": {},
   "outputs": [
    {
     "data": {
      "image/png": "[encoded data removed]",
      "text/plain": [
       "<Figure size 1080x432 with 1 Axes>"
      ]
     },
     "metadata": {
      "needs_background": "light"
     },
     "output_type": "display_data"
    }
   ],
   "source": [
    "fig, ax = plt.subplots(figsize = (15, 6))\n",
    "plt.plot(x, y, marker = 'o', linestyle = 'none', label = 'Actual')\n",
    "plt.plot(x, const_pred, marker = 'x', linestyle= 'none', color = 'green', label = 'Constant')\n",
    "plt.title(\"Simulated Data w/ Constant Predictions\")\n",
    "plt.legend();"
   ]
  },
  {
   "cell_type": "markdown",
   "id": "faaad6a1-4e6a-4818-abdd-b58f1c33adc5",
   "metadata": {},
   "source": [
    "Pretty cool, huh! The hypothesis is obviously a bad fit, but at least we showed how to create a custom estimator in `sklearn`! Of course the real benefit of `sklearn` was its rich supporting features such as `Pipelines` and `GridSearch`. The good news is that we can use our custom estimator _inside_ of a `GridSearchCV` object! In this case, we want to find an optimal constant value rather than providing one. This means it is a hyperparamter we want to estimate within the CV operator. For the purpose of this post, we can explore a hyperparameter space between 0 & 3 to try and find the optimal value. As in [other posts](https://rainingstatsanddogs.github.io/intro-to-model-validation-1.html) on [the topic](https://rainingstatsanddogs.github.io/intro-to-model-validation-2.html), we simply need to name the value within the estimator in the `param_grid` & initiate a scoring function; in this case we'll use MSE. "
   ]
  },
  {
   "cell_type": "code",
   "execution_count": 200,
   "id": "4753c2d7-1fe8-4f05-bc33-3b9d9813e975",
   "metadata": {},
   "outputs": [],
   "source": [
    "# Install GridSearchCV\n",
    "from sklearn.model_selection import GridSearchCV\n",
    "\n",
    "# Create a GridSearchCV object with our custom estimator.\n",
    "regression_cv = GridSearchCV(PickConstant(), \n",
    "                             cv = 3, \n",
    "                             param_grid = {'constant_value': np.linspace(0, 3, 100)},\n",
    "                             scoring = 'neg_mean_squared_error')\n",
    "\n",
    "# Fit the object\n",
    "regression_cv.fit(x.reshape(-1, 1), y);"
   ]
  },
  {
   "cell_type": "markdown",
   "id": "d7f55bfe-4725-4329-a534-e0067b20d225",
   "metadata": {},
   "source": [
    "Now let's see what the optimal value the `GridSearchCV` object returned:"
   ]
  },
  {
   "cell_type": "code",
   "execution_count": 199,
   "id": "f3b5d9ef-b939-4894-a215-c7862cb35c46",
   "metadata": {},
   "outputs": [
    {
     "data": {
      "text/plain": [
       "{'constant_value': 1.652076207620762}"
      ]
     },
     "execution_count": 199,
     "metadata": {},
     "output_type": "execute_result"
    }
   ],
   "source": [
    "regression_cv.best_params_"
   ]
  },
  {
   "cell_type": "markdown",
   "id": "0ebd44df-3299-4236-bee0-ccf857d73974",
   "metadata": {},
   "source": [
    "Of course we know that the actual value that should minimize the square loss is the sample average. Let's see how close we came:"
   ]
  },
  {
   "cell_type": "code",
   "execution_count": 201,
   "id": "01056081-c5cd-49ee-9156-f2cb3ac3c8b1",
   "metadata": {},
   "outputs": [
    {
     "name": "stdout",
     "output_type": "stream",
     "text": [
      "1.6520759103515146\n"
     ]
    }
   ],
   "source": [
    "print(np.mean(y))"
   ]
  },
  {
   "cell_type": "markdown",
   "id": "1b485fda-73a3-4f46-aab3-f2bbc00ddc35",
   "metadata": {},
   "source": [
    "That was pretty close but not perfect; we could improve the fit by providing a more granular `linspace` but for now this is adequate. But what if we wanted to try a more advanced hypothesis? Typically we never get access to the data-generating distribution, but we do get observable data, $\\mathcal{D} = \\{(x_{1}, y_{1}), (x_{2}, y_{2}), \\ldots (x_{n}, y_{n})\\}$. We can instead define a hypothesis as: $$h_{memorizer} := \\begin{cases}y_{i}~\\mathrm{if~}x=x_{i},x_{i}\\in\\mathcal{D} \\\\ c~else\\end{cases}$$ In other words, if we've seen the existing data point before ($x = x_{i}$), we return the associated label ($y_{i}$). On the other hand, if the $x$ is new, we return some constant. This is slightly more advanced than what we did before, but still likely not the best approach possible. For instance, we typically have measurment error and multiple reads at the same input, so this would be a problem. Additionally, as the size of $\\mathcal{D}$ increases, we'd have to maintain a massive database and look this up. But for now, let's make a new estimator:"
   ]
  },
  {
   "cell_type": "code",
   "execution_count": 208,
   "id": "7a59cca2-c439-42d3-92be-4a0ce818f531",
   "metadata": {},
   "outputs": [],
   "source": [
    "class MemorizerOrConstant(BaseEstimator, RegressorMixin):\n",
    "\n",
    "    def __init__(self, constant_value = 1.5):\n",
    "        self.constant_value = constant_value\n",
    "\n",
    "    def fit(self, X, y):\n",
    "        # Check that X and y have correct shape\n",
    "        X, y = check_X_y(X, y)\n",
    "        # Store the classes seen during fit\n",
    "        self.X_ = X\n",
    "        self.y_ = y\n",
    "        # Return the 'regressor'\n",
    "        return self\n",
    "\n",
    "    def predict(self, X):\n",
    "        # Check if fit has been called\n",
    "        check_is_fitted(self)\n",
    "        # Input validation\n",
    "        X = check_array(X)\n",
    "        # Mask if the input array exists in training data and grab first dimension\n",
    "        # to index correctly into the y-array\n",
    "        self.X_mask = np.argwhere(np.isin(X, self.X_))[:, 0]\n",
    "        self.X__mask = np.argwhere(np.isin(self.X_, X))[:, 0]\n",
    "        # Make output array for predicted y; assumes no matches => constant value\n",
    "        pred_y = self.constant_value * np.ones(shape = np.shape(X)[0])\n",
    "        pred_y[self.X_mask] = self.y_[self.X__mask]\n",
    "\n",
    "        return pred_y"
   ]
  },
  {
   "cell_type": "code",
   "execution_count": 209,
   "id": "a82adaec-8228-4643-8634-28fbf0c42436",
   "metadata": {},
   "outputs": [],
   "source": [
    "# Instantiate the class with a constant value of 1.5\n",
    "mem_reg = MemorizerOrConstant(1.5)\n",
    "# Fit the model on the data (note we need to reshape 'x')\n",
    "mem_reg.fit(x.reshape(-1, 1), y)\n",
    "# And make predictions!\n",
    "mem_pred = mem_reg.predict(x.reshape(-1, 1))"
   ]
  },
  {
   "cell_type": "code",
   "execution_count": 210,
   "id": "b943c2c9-6357-4d14-98df-6c2be7b11349",
   "metadata": {},
   "outputs": [
    {
     "data": {
      "text/plain": [
       "array([0.84147098, 1.11441658, 1.26738129, 1.33148827, 1.33040125,\n",
       "       1.28498993, 1.21462762, 1.1371912 , 1.06853876, 1.02183117,\n",
       "       1.00690314, 1.02981075, 1.09263117, 1.19355058, 1.32724201,\n",
       "       1.48550459, 1.65811052, 1.83378763, 2.00125334, 2.15021243,\n",
       "       2.2722352 , 2.36144422, 2.41495562, 2.43304332, 2.41901922,\n",
       "       2.37884739, 2.32053319, 2.25334737, 2.18695803, 2.13055051])"
      ]
     },
     "execution_count": 210,
     "metadata": {},
     "output_type": "execute_result"
    }
   ],
   "source": [
    "# Show results\n",
    "mem_pred"
   ]
  },
  {
   "cell_type": "markdown",
   "id": "a7a77846-0797-4f33-9a83-4c0b6c438cc9",
   "metadata": {},
   "source": [
    "This looks a little better! The values aren't constant, but this should be suprising since we are predicting our training data and all labels are known. To verify this, let's look at the plot:"
   ]
  },
  {
   "cell_type": "code",
   "execution_count": 211,
   "id": "684dd28c-d369-4583-b2e8-88e9c94dbdc3",
   "metadata": {},
   "outputs": [
    {
     "data": {
      "image/png": "[encoded data removed]",
      "text/plain": [
       "<Figure size 1080x432 with 1 Axes>"
      ]
     },
     "metadata": {
      "needs_background": "light"
     },
     "output_type": "display_data"
    }
   ],
   "source": [
    "fig, ax = plt.subplots(figsize = (15, 6))\n",
    "plt.plot(x, y, marker = 'o', linestyle = 'none', label = 'Actual')\n",
    "plt.plot(x, const_pred, marker = 'x', linestyle= 'none', color = 'green', label = 'Constant')\n",
    "plt.plot(x, mem_pred, marker = '+', linestyle= 'none', markersize = 15, color = 'red', label = 'Memorizer/Constant')\n",
    "plt.title(\"Simulated Data w/ Two Estimators\")\n",
    "plt.legend();"
   ]
  },
  {
   "cell_type": "markdown",
   "id": "e1312035-f401-4ef7-881e-fe5fe9296d11",
   "metadata": {},
   "source": [
    "This plot confirms that we successfully memorized the training data. But if we tried a new $x$, we should see other values. To prove this, we can create many more training points that do not line up with most of our earlier training data:"
   ]
  },
  {
   "cell_type": "code",
   "execution_count": 216,
   "id": "96a96668-ccf5-4cdf-84fa-ebbe1c97cc94",
   "metadata": {},
   "outputs": [
    {
     "data": {
      "text/plain": [
       "array([0.84147098, 1.5       , 1.5       , 1.5       , 1.5       ,\n",
       "       1.5       , 1.5       , 1.5       , 1.5       , 1.5       ,\n",
       "       1.5       , 1.5       , 1.5       , 1.5       , 1.5       ,\n",
       "       1.5       , 1.5       , 1.5       , 1.5       , 1.5       ,\n",
       "       1.5       , 1.5       , 1.5       , 1.5       , 1.5       ,\n",
       "       1.5       , 1.5       , 1.5       , 1.5       , 1.5       ])"
      ]
     },
     "execution_count": 216,
     "metadata": {},
     "output_type": "execute_result"
    }
   ],
   "source": [
    "# Make some new x values that will only align at the first and last value\n",
    "new_x = np.linspace(1, 10, 301)\n",
    "\n",
    "new_mem_reg = MemorizerOrConstant(1.5)\n",
    "new_mem_reg.fit(x.reshape(-1, 1), y)\n",
    "new_mem_pred = new_mem_reg.predict(new_x.reshape(-1, 1))\n",
    "\n",
    "# View some of the data\n",
    "new_mem_pred[:30]"
   ]
  },
  {
   "cell_type": "markdown",
   "id": "74ee085c-0268-4979-8971-b76706a2781c",
   "metadata": {},
   "source": [
    "This looks remarkably different than before! That's because most of the values in `new_x` aren't in the training data; just the first and last points, which we can see by viewing the plot:"
   ]
  },
  {
   "cell_type": "code",
   "execution_count": 217,
   "id": "ccbcbab2-a0da-45b0-a97f-cbd68c4e6410",
   "metadata": {},
   "outputs": [
    {
     "data": {
      "image/png": "[encoded data removed]",
      "text/plain": [
       "<Figure size 1080x432 with 1 Axes>"
      ]
     },
     "metadata": {
      "needs_background": "light"
     },
     "output_type": "display_data"
    }
   ],
   "source": [
    "fig, ax = plt.subplots(figsize = (15, 6))\n",
    "plt.plot(x, y, marker = 'o', linestyle = 'none', label = 'Actual')\n",
    "plt.plot(x, const_pred, marker = 'x', linestyle= 'none', color = 'green', label = 'Constant')\n",
    "plt.plot(new_x, new_mem_pred, marker = '+', linestyle= 'none', markersize = 15, color = 'red', label = 'Memorizer/Constant')\n",
    "plt.title(\"Simulated Data w/ Two Estimators\")\n",
    "plt.legend();"
   ]
  },
  {
   "cell_type": "markdown",
   "id": "e92ae72f-2b54-4d99-815d-3613b2ed537b",
   "metadata": {},
   "source": [
    "We can also put our `Memorizer` into a `GridSearchCV` object and find an optimal $c$, or come up with some other custom estimators. But at this point, that's enough for this post. \n",
    "\n",
    "## Summary\n",
    "In this post, we covered some basics about Statistical Learning Theory, created two rudimentary hypotheses that we implemented into `sklearn` and even put one into a `GridSearchCV` object and tuned the hyperparameter. Perhaps future posts will cover integrating other objects into `sklearn` or more theory about Statistical Machine Learning. If you have an opinion, please let me know in the comments!"
   ]
  }
 ],
 "metadata": {
  "kernelspec": {
   "display_name": "Python 3 (ipykernel)",
   "language": "python",
   "name": "python3"
  },
  "language_info": {
   "codemirror_mode": {
    "name": "ipython",
    "version": 3
   },
   "file_extension": ".py",
   "mimetype": "text/x-python",
   "name": "python",
   "nbconvert_exporter": "python",
   "pygments_lexer": "ipython3",
   "version": "3.8.13"
  }
 },
 "nbformat": 4,
 "nbformat_minor": 5
}
